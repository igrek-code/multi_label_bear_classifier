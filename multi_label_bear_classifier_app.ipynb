{
  "nbformat": 4,
  "nbformat_minor": 0,
  "metadata": {
    "colab": {
      "name": "Untitled4.ipynb",
      "provenance": []
    },
    "kernelspec": {
      "name": "python3",
      "display_name": "Python 3"
    },
    "accelerator": "GPU"
  },
  "cells": [
    {
      "cell_type": "code",
      "metadata": {
        "id": "6uBtxuDwthEE"
      },
      "source": [
        "from fastai.vision.all import *\n",
        "from fastai.vision.widgets import *\n",
        "btn_upload = widgets.FileUpload()\n",
        "out_pl = widgets.Output()\n",
        "lbl_pred = widgets.Label()\n",
        "btn_run = widgets.Button(description='Classify')"
      ],
      "execution_count": 2,
      "outputs": []
    },
    {
      "cell_type": "code",
      "metadata": {
        "id": "42IiMACCvwK4"
      },
      "source": [
        "def parent_label_multi(o):\n",
        "  return [parent_label(o)]"
      ],
      "execution_count": 4,
      "outputs": []
    },
    {
      "cell_type": "code",
      "metadata": {
        "id": "7rYD4dTgu5eX"
      },
      "source": [
        "path = Path()\n",
        "learn_inf = load_learner(path/'export.pkl')"
      ],
      "execution_count": 5,
      "outputs": []
    },
    {
      "cell_type": "code",
      "metadata": {
        "id": "t5byGtIsvE3l"
      },
      "source": [
        "def on_click_classify(change):\n",
        "    img = PILImage.create(btn_upload.data[-1])\n",
        "    out_pl.clear_output()\n",
        "    with out_pl: display(img.to_thumb(128, 128))\n",
        "    pred, pred_idx, probs = learn_inf.predict(img)\n",
        "    probs = probs[2][probs[1]].split(1)\n",
        "    probs = [round(prob.item(), 4) for prob in probs]\n",
        "    lbl_pred.value = f'Prediction: {pred}.\\nProbability: {probs}'"
      ],
      "execution_count": 6,
      "outputs": []
    },
    {
      "cell_type": "code",
      "metadata": {
        "id": "CZr8fbegvOSq"
      },
      "source": [
        "btn_run.on_click(on_click_classify)"
      ],
      "execution_count": null,
      "outputs": []
    },
    {
      "cell_type": "code",
      "metadata": {
        "id": "LMllSY-VvQcc"
      },
      "source": [
        "VBox([widgets.Label('Upload your image ! It will detect, what kinds of bears are in the image (i.e. grizzly, black or teddy bear), or other if there\\'s no bears.'),\n",
        "     btn_upload, btn_run, out_pl, lbl_pred])"
      ],
      "execution_count": null,
      "outputs": []
    }
  ]
}
